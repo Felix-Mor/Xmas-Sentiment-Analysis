{
 "cells": [
  {
   "cell_type": "code",
   "execution_count": null,
   "id": "f8d97721",
   "metadata": {},
   "outputs": [],
   "source": [
    "import pandas as pd"
   ]
  },
  {
   "cell_type": "code",
   "execution_count": null,
   "id": "3514689f",
   "metadata": {
    "scrolled": true
   },
   "outputs": [],
   "source": [
    "import glob\n",
    "\n",
    "filenames = glob.glob(\"data/*\")\n",
    "filenames[:5]"
   ]
  },
  {
   "cell_type": "code",
   "execution_count": null,
   "id": "d7a32720",
   "metadata": {
    "scrolled": false
   },
   "outputs": [],
   "source": [
    "# !wget -nc https://nyc3.digitaloceanspaces.com/ml-files-distro/v1/upshot-trump-emolex/data/NRC-emotion-lexicon-wordlevel-alphabetized-v0.92.txt -P data"
   ]
  },
  {
   "cell_type": "code",
   "execution_count": null,
   "id": "26d67cbc",
   "metadata": {},
   "outputs": [],
   "source": [
    "speeches = [open(filename).read() for filename in filenames]\n",
    "len(speeches)"
   ]
  },
  {
   "cell_type": "code",
   "execution_count": null,
   "id": "e1416ed2",
   "metadata": {},
   "outputs": [],
   "source": [
    "speeches_df = pd.DataFrame({\n",
    "    'text': speeches,\n",
    "    'filename': filenames\n",
    "})\n",
    "speeches_df.head(3)"
   ]
  },
  {
   "cell_type": "code",
   "execution_count": null,
   "id": "88db4d83",
   "metadata": {},
   "outputs": [],
   "source": [
    "from sklearn.feature_extraction.text import CountVectorizer\n",
    "\n",
    "vec = CountVectorizer()\n",
    "matrix = vec.fit_transform(speeches_df['text'])\n",
    "vocab = vec.get_feature_names()\n",
    "wordcount_df = pd.DataFrame(matrix.toarray(), columns=vocab)\n",
    "wordcount_df.head()"
   ]
  },
  {
   "cell_type": "code",
   "execution_count": null,
   "id": "9ee4c444",
   "metadata": {},
   "outputs": [],
   "source": [
    "filepath = \"NRC-emotion-lexicon-wordlevel-alphabetized-v0.92.txt\"\n",
    "emolex_df = pd.read_csv(filepath,  names=[\"word\", \"emotion\", \"association\"], skiprows=45, sep='\\t', keep_default_na=False)\n",
    "emolex_df = emolex_df.pivot(index='word', columns='emotion', values='association').reset_index()\n",
    "emolex_df.head()"
   ]
  },
  {
   "cell_type": "code",
   "execution_count": null,
   "id": "66be67c2",
   "metadata": {},
   "outputs": [],
   "source": [
    "from sklearn.feature_extraction.text import TfidfVectorizer\n",
    "\n",
    "vec = TfidfVectorizer(vocabulary=emolex_df.word,\n",
    "                      use_idf=False, \n",
    "                      norm='l1') # ELL - ONE\n",
    "matrix = vec.fit_transform(speeches_df.text)\n",
    "vocab = vec.get_feature_names()\n",
    "wordcount_df = pd.DataFrame(matrix.toarray(), columns=vocab)\n",
    "wordcount_df.head()"
   ]
  },
  {
   "cell_type": "code",
   "execution_count": null,
   "id": "37586a83",
   "metadata": {},
   "outputs": [],
   "source": [
    "angry_words = emolex_df[emolex_df.anger == 1]['word']\n",
    "trust_words = emolex_df[emolex_df.trust == 1]['word']\n",
    "anticipation_words = emolex_df[emolex_df.anticipation == 1]['word']\n",
    "disgust_words = emolex_df[emolex_df.disgust == 1]['word']\n",
    "fear_words = emolex_df[emolex_df.fear == 1]['word']\n",
    "joy_words = emolex_df[emolex_df.joy == 1]['word']\n",
    "negative_words = emolex_df[emolex_df.negative == 1]['word']\n",
    "positive_words = emolex_df[emolex_df.positive == 1]['word']\n",
    "sadness_words = emolex_df[emolex_df.sadness == 1]['word']\n",
    "surprise_words = emolex_df[emolex_df.surprise == 1]['word']\n"
   ]
  },
  {
   "cell_type": "code",
   "execution_count": null,
   "id": "63a57e33",
   "metadata": {},
   "outputs": [],
   "source": [
    "speeches_df['anger'] = wordcount_df[angry_words].sum(axis=1)\n",
    "speeches_df.head(3)"
   ]
  },
  {
   "cell_type": "code",
   "execution_count": null,
   "id": "d47adba5",
   "metadata": {},
   "outputs": [],
   "source": [
    "speeches_df['anticipation'] = wordcount_df[anticipation_words].sum(axis=1)\n",
    "speeches_df['disgust'] = wordcount_df[disgust_words].sum(axis=1)\n",
    "speeches_df['fear'] = wordcount_df[fear_words].sum(axis=1)\n",
    "speeches_df['joy'] = wordcount_df[joy_words].sum(axis=1)\n",
    "speeches_df['negative'] = wordcount_df[negative_words].sum(axis=1)\n",
    "speeches_df['positive'] = wordcount_df[positive_words].sum(axis=1)\n",
    "speeches_df['sadness'] = wordcount_df[sadness_words].sum(axis=1)\n",
    "speeches_df['surprise'] = wordcount_df[surprise_words].sum(axis=1)\n",
    "speeches_df['trust'] = wordcount_df[trust_words].sum(axis=1)"
   ]
  },
  {
   "cell_type": "code",
   "execution_count": null,
   "id": "9a2b1771",
   "metadata": {},
   "outputs": [],
   "source": [
    "def name_edit(filename):\n",
    "    return filename[5:9]"
   ]
  },
  {
   "cell_type": "code",
   "execution_count": null,
   "id": "b9ec3c8c",
   "metadata": {},
   "outputs": [],
   "source": [
    "speeches_df['year'] = speeches_df['filename']\n",
    "speeches_df['year'] = speeches_df['year'].map(lambda x:name_edit(x))"
   ]
  },
  {
   "cell_type": "code",
   "execution_count": null,
   "id": "c9fa712e",
   "metadata": {},
   "outputs": [],
   "source": [
    "speeches_df['year'] = speeches_df['year'].astype('int64')"
   ]
  },
  {
   "cell_type": "code",
   "execution_count": null,
   "id": "86c025b0",
   "metadata": {},
   "outputs": [],
   "source": [
    "speeches_df = speeches_df.sort_values(by='year')"
   ]
  },
  {
   "cell_type": "code",
   "execution_count": null,
   "id": "21f915d1",
   "metadata": {},
   "outputs": [],
   "source": [
    "speeches_df.head()"
   ]
  },
  {
   "cell_type": "code",
   "execution_count": null,
   "id": "93084b39",
   "metadata": {},
   "outputs": [],
   "source": [
    "import seaborn as sns\n",
    "import matplotlib as plt"
   ]
  },
  {
   "cell_type": "code",
   "execution_count": null,
   "id": "6c980413",
   "metadata": {},
   "outputs": [],
   "source": [
    "sns.lineplot(data=speeches_df, x='filename', y='anger').set_xticklabels(\n",
    "    labels=speeches_df['filename'], rotation=90)\n",
    "sns.lineplot(data=speeches_df, x='filename', y='positive')\n"
   ]
  },
  {
   "cell_type": "code",
   "execution_count": null,
   "id": "aac15457",
   "metadata": {
    "scrolled": true
   },
   "outputs": [],
   "source": [
    "df = speeches_df[['year','anger', 'anticipation','disgust', 'fear', 'joy','negative', 'positive', 'sadness', 'surprise', 'trust' ]]\n",
    "\n"
   ]
  },
  {
   "cell_type": "code",
   "execution_count": null,
   "id": "0a4b7d26",
   "metadata": {},
   "outputs": [],
   "source": [
    "df = df.set_index('year')"
   ]
  },
  {
   "cell_type": "code",
   "execution_count": null,
   "id": "1c917160",
   "metadata": {},
   "outputs": [],
   "source": [
    "# import matplotlib.pyplot as plt\n",
    "# sns.lineplot(data=df.column1, color=\"g\")\n",
    "# ax2 = plt.twinx()\n",
    "# sns.lineplot(data=df.column2, color=\"b\", ax=ax2)"
   ]
  },
  {
   "cell_type": "code",
   "execution_count": null,
   "id": "3b9f56d6",
   "metadata": {},
   "outputs": [],
   "source": [
    "ax = sns.lineplot(data=df)\n",
    "sns.move_legend(ax, \"upper left\", bbox_to_anchor=(1, 1))\n",
    "sns.set(rc={'figure.figsize':(20,8)})"
   ]
  },
  {
   "cell_type": "code",
   "execution_count": null,
   "id": "4a103511",
   "metadata": {},
   "outputs": [],
   "source": [
    "speeches_df.to_csv('sentiment.csv',index=False)"
   ]
  },
  {
   "cell_type": "code",
   "execution_count": null,
   "id": "4521066c",
   "metadata": {},
   "outputs": [],
   "source": []
  }
 ],
 "metadata": {
  "kernelspec": {
   "display_name": "Python 3 (ipykernel)",
   "language": "python",
   "name": "python3"
  },
  "language_info": {
   "codemirror_mode": {
    "name": "ipython",
    "version": 3
   },
   "file_extension": ".py",
   "mimetype": "text/x-python",
   "name": "python",
   "nbconvert_exporter": "python",
   "pygments_lexer": "ipython3",
   "version": "3.10.6"
  },
  "toc": {
   "base_numbering": 1,
   "nav_menu": {},
   "number_sections": true,
   "sideBar": true,
   "skip_h1_title": false,
   "title_cell": "Table of Contents",
   "title_sidebar": "Contents",
   "toc_cell": false,
   "toc_position": {},
   "toc_section_display": true,
   "toc_window_display": false
  }
 },
 "nbformat": 4,
 "nbformat_minor": 5
}
